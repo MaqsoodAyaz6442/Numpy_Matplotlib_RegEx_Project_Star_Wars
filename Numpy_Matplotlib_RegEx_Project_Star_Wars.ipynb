{
 "cells": [
  {
   "cell_type": "code",
   "execution_count": 1,
   "id": "8ca85a85",
   "metadata": {},
   "outputs": [],
   "source": [
    "import numpy as np\n",
    "import matplotlib.pyplot as plt\n",
    "import numpy as np\n",
    "import re"
   ]
  },
  {
   "cell_type": "code",
   "execution_count": 2,
   "id": "cc7a07ed",
   "metadata": {},
   "outputs": [],
   "source": [
    "# Tatooine Data (Planet 1)\n",
    "tatooine_data = [\n",
    "    # City 1\n",
    "    [100, 80, 5],\n",
    "    # City 2\n",
    "    [120, 90, 4],\n",
    "    #City 3\n",
    "    [110, 85, 6],\n",
    "    # City 4\n",
    "    [115, 88, 3],\n",
    "]\n",
    "\n",
    "# Naboo Data (Planet 2)\n",
    "naboo_data = [\n",
    "    [90, 70, 4], \n",
    "    [110, 85, 3], \n",
    "    [100, 80, 5], \n",
    "    [95, 75, 2]\n",
    "]\n",
    "\n",
    "\n",
    "# Alderaan Data (Planet 3)\n",
    "alderaan_data = [\n",
    "    [85, 65, 3], \n",
    "    [105, 80, 2], \n",
    "    [95, 75, 4], \n",
    "    [90, 70, 1]\n",
    "]"
   ]
  },
  {
   "cell_type": "code",
   "execution_count": 3,
   "id": "9d50394f",
   "metadata": {},
   "outputs": [
    {
     "name": "stdout",
     "output_type": "stream",
     "text": [
      "[[[100  80   5]\n",
      "  [120  90   4]\n",
      "  [110  85   6]\n",
      "  [115  88   3]]\n",
      "\n",
      " [[ 90  70   4]\n",
      "  [110  85   3]\n",
      "  [100  80   5]\n",
      "  [ 95  75   2]]\n",
      "\n",
      " [[ 85  65   3]\n",
      "  [105  80   2]\n",
      "  [ 95  75   4]\n",
      "  [ 90  70   1]]]\n",
      "The shape of all_data is: (3, 4, 3)\n"
     ]
    }
   ],
   "source": [
    "all_data = np.array([tatooine_data,naboo_data,alderaan_data])\n",
    "print(all_data)\n",
    "\n",
    "print(\"The shape of all_data is:\",all_data.shape)"
   ]
  },
  {
   "cell_type": "code",
   "execution_count": 4,
   "id": "d2b06cf8",
   "metadata": {},
   "outputs": [
    {
     "name": "stdout",
     "output_type": "stream",
     "text": [
      "[5 4 6 3]\n",
      "\n",
      "\n",
      "(4,)\n",
      "\n",
      "\n",
      "[4 3 5 2]\n",
      "\n",
      "\n",
      "(4,)\n",
      "\n",
      "\n",
      "[4 3 5 2]\n",
      "\n",
      "\n",
      "(4,)\n",
      "\n",
      "\n"
     ]
    }
   ],
   "source": [
    "death_data_tatooine = all_data[0,:,2]\n",
    "death_data_naboo = all_data[1,:,2]\n",
    "death_data_alderaan = all_data[1,:,2]\n",
    "print(death_data_tatooine)\n",
    "print(\"\\n\")\n",
    "print(death_data_tatooine.shape)\n",
    "print(\"\\n\")\n",
    "print(death_data_naboo)\n",
    "print(\"\\n\")\n",
    "print(death_data_naboo.shape)\n",
    "print(\"\\n\")\n",
    "print(death_data_alderaan)\n",
    "print(\"\\n\")\n",
    "print(death_data_alderaan.shape)\n",
    "print(\"\\n\")"
   ]
  },
  {
   "cell_type": "code",
   "execution_count": 5,
   "id": "cd9b3ca7",
   "metadata": {},
   "outputs": [
    {
     "name": "stdout",
     "output_type": "stream",
     "text": [
      "Total deaths in Tatooine: 18\n",
      "\n",
      "\n",
      "Total deaths in Naboo: 14\n",
      "\n",
      "\n",
      "Total deaths in Alderaan: 14\n",
      "\n",
      "\n"
     ]
    }
   ],
   "source": [
    "total_deaths_tatooine = np.sum(death_data_tatooine)\n",
    "print(\"Total deaths in Tatooine:\",total_deaths_tatooine)\n",
    "print(\"\\n\")\n",
    "total_deaths_naboo = np.sum(death_data_naboo)\n",
    "print(\"Total deaths in Naboo:\",total_deaths_naboo)\n",
    "print(\"\\n\")\n",
    "total_deaths_alderaan = np.sum(death_data_alderaan)\n",
    "print(\"Total deaths in Alderaan:\",total_deaths_alderaan)\n",
    "print(\"\\n\")"
   ]
  },
  {
   "cell_type": "code",
   "execution_count": 6,
   "id": "de97478b",
   "metadata": {},
   "outputs": [
    {
     "name": "stdout",
     "output_type": "stream",
     "text": [
      "Highest number of deaths: 18\n"
     ]
    }
   ],
   "source": [
    "most_deaths= np.max([total_deaths_tatooine,total_deaths_naboo,total_deaths_alderaan])\n",
    "\n",
    "print(\"Highest number of deaths:\", most_deaths)"
   ]
  },
  {
   "cell_type": "code",
   "execution_count": 7,
   "id": "166ceef4",
   "metadata": {},
   "outputs": [
    {
     "name": "stdout",
     "output_type": "stream",
     "text": [
      "Index of Planet with highest deaths: 0\n",
      "Planet with the most deaths: Tatooine\n"
     ]
    }
   ],
   "source": [
    "planet_names = [\"Tatooine\", \"Naboo\", \"Alderaan\"]\n",
    "\n",
    "index_of_most_deaths = np.argmax(most_deaths)\n",
    "\n",
    "planet_with_most_deaths = planet_names[index_of_most_deaths]\n",
    "print(\"Index of Planet with highest deaths:\",index_of_most_deaths)\n",
    "\n",
    "print(\"Planet with the most deaths:\", planet_with_most_deaths)"
   ]
  },
  {
   "cell_type": "code",
   "execution_count": 8,
   "id": "8c6abb1f",
   "metadata": {},
   "outputs": [
    {
     "name": "stdout",
     "output_type": "stream",
     "text": [
      "Deaths of all planets:\n",
      " [[5 4 6 3]\n",
      " [4 3 5 2]\n",
      " [3 2 4 1]]\n",
      "Deaths of all planets:\n",
      " [5 4 6 3 4 3 5 2 3 2 4 1]\n",
      "Average deaths per city: 3.5\n"
     ]
    }
   ],
   "source": [
    "All_Deaths_Data=all_data[::,:,2]\n",
    "print(\"Deaths of all planets:\\n\",All_Deaths_Data)\n",
    "All_Deaths_data=All_Deaths_Data.flatten()\n",
    "print(\"Deaths of all planets:\\n\",All_Deaths_data)\n",
    "average_deaths_per_city = np.mean(All_Deaths_data)\n",
    "\n",
    "print(\"Average deaths per city:\", average_deaths_per_city)"
   ]
  },
  {
   "cell_type": "code",
   "execution_count": 9,
   "id": "c8f69cf9",
   "metadata": {},
   "outputs": [
    {
     "data": {
      "text/plain": [
       "Text(0, 0.5, 'No. of Cases')"
      ]
     },
     "execution_count": 9,
     "metadata": {},
     "output_type": "execute_result"
    },
    {
     "data": {
      "image/png": "[encoded data removed]",
      "text/plain": [
       "<Figure size 640x480 with 1 Axes>"
      ]
     },
     "metadata": {},
     "output_type": "display_data"
    }
   ],
   "source": [
    "x_values = [\"city1\", \"city2\", \"city3\", \"city4\"]\n",
    "cases_tatooine = all_data[0, :, 0] \n",
    "\n",
    "\n",
    "\n",
    "plt.figure()\n",
    "plt.bar(['city 1','city 2','city 3','city 4'],cases_tatooine)\n",
    "\n",
    "\n",
    "plt.title(\"Cases for each city of Tatooine\")\n",
    "\n",
    "plt.xlabel(\"Cities\")\n",
    "plt.ylabel(\"No. of Cases\")\n"
   ]
  },
  {
   "cell_type": "code",
   "execution_count": 10,
   "id": "af4b779c",
   "metadata": {},
   "outputs": [
    {
     "data": {
      "text/plain": [
       "(0.0, 130.0)"
      ]
     },
     "execution_count": 10,
     "metadata": {},
     "output_type": "execute_result"
    },
    {
     "data": {
      "image/png": "[encoded data removed]",
      "text/plain": [
       "<Figure size 1000x400 with 3 Axes>"
      ]
     },
     "metadata": {},
     "output_type": "display_data"
    }
   ],
   "source": [
    "fig, (ax1, ax2, ax3) = plt.subplots(1,3, figsize = (10,4))  \n",
    "\n",
    "x_values = [\"city1\", \"city2\", \"city3\", \"city4\"]\n",
    "\n",
    "cases_tatooine = all_data[0, :, 0]\n",
    "cases_naboo = all_data[1, :, 0]\n",
    "cases_alderaan = all_data[2, :, 0]\n",
    "\n",
    "tatooine_max=np.max(cases_tatooine)\n",
    "naboo_max=np.max(cases_naboo)\n",
    "alderaan_max=np.max(cases_alderaan)\n",
    "list_max=[tatooine_max,naboo_max,alderaan_max]\n",
    "Max_list=max(list_max)\n",
    "\n",
    "\n",
    "\n",
    "# for tatooine\n",
    "ax1.bar(x_values,cases_tatooine)\n",
    "ax1.set_title('Tatooine')\n",
    "ax1.set_xlabel('City')\n",
    "ax1.set_ylabel('Cases')\n",
    "ax1.set_ylim(0,Max_list+10) \n",
    "\n",
    "\n",
    "# for naboo\n",
    "ax2.bar(x_values,cases_naboo)\n",
    "ax2.set_title('Naboo')\n",
    "ax2.set_xlabel('City')\n",
    "ax2.set_ylabel('Cases')\n",
    "ax2.set_ylim(0,Max_list+10)\n",
    "\n",
    "\n",
    "# for alderaan\n",
    "ax3.bar(x_values,cases_alderaan)\n",
    "ax3.set_title('Alderaan')\n",
    "ax3.set_xlabel('City')\n",
    "ax3.set_ylabel('Cases')\n",
    "ax3.set_ylim(0,Max_list+10)"
   ]
  },
  {
   "cell_type": "code",
   "execution_count": 11,
   "id": "1b67fb40",
   "metadata": {},
   "outputs": [
    {
     "data": {
      "image/png": "[encoded data removed]",
      "text/plain": [
       "<Figure size 1000x600 with 1 Axes>"
      ]
     },
     "metadata": {},
     "output_type": "display_data"
    }
   ],
   "source": [
    "import matplotlib.pyplot as plt\n",
    "\n",
    "\n",
    "countries = ['Country A', 'Country B', 'Country C', 'Country D', 'Country E']\n",
    "gdp_per_capita = [40000, 30000, 20000, 50000, 10000]  # in USD\n",
    "life_expectancy = [80, 78, 75, 82, 70]  # in years\n",
    "population = [50, 30, 80, 40, 90]  # in millions\n",
    "\n",
    "\n",
    "bubble_size = [val * 5 for val in population]\n",
    "\n",
    "\n",
    "plt.figure(figsize=(10, 6))\n",
    "scatter = plt.scatter(gdp_per_capita, life_expectancy, s=bubble_size, alpha=0.5)\n",
    "\n",
    "\n",
    "plt.xlabel('GDP per Capita (USD)')\n",
    "plt.ylabel('Life Expectancy (Years)')\n",
    "plt.title('Country Comparison: GDP, Life Expectancy, and Population')\n",
    "\n",
    "\n",
    "\n",
    "plt.show()\n"
   ]
  },
  {
   "cell_type": "code",
   "execution_count": 12,
   "id": "0c18734e",
   "metadata": {},
   "outputs": [
    {
     "name": "stdout",
     "output_type": "stream",
     "text": [
      "#FF5733\n",
      "#33FF57\n",
      "#3357FF\n",
      "#0A0A0A\n",
      "#FAFAFA\n"
     ]
    }
   ],
   "source": [
    "test_text =\"\"\"In this design, the primary colors are #FF5733, #33FF57, and #3357FF. \n",
    "Make sure to also consider darker shades like #0A0A0A and lighter tones such as #FAFAFA.\n",
    "Invalid codes like #12345, #XYZ123, and #A1B2G3 should not be matched.\n",
    "\"\"\"\n",
    "\n",
    "student_regex = r'#(?:[0-9a-fA-F]{3}){1,2}\\b'\n",
    "\n",
    "\n",
    "matches = re.findall(student_regex,test_text)  \n",
    "\n",
    "\n",
    "for match in matches:\n",
    "    print(match)\n"
   ]
  },
  {
   "cell_type": "code",
   "execution_count": 13,
   "id": "0e0de7a0",
   "metadata": {},
   "outputs": [
    {
     "name": "stdout",
     "output_type": "stream",
     "text": [
      "09:45\n",
      "05:30\n",
      "11:15\n"
     ]
    }
   ],
   "source": [
    "log_text = \"\"\"\n",
    "Error reported at 09:45 PM, system failure.\n",
    "Warning issued at 05:30 AM, low battery.\n",
    "Duration of failure 00:30 s.\n",
    "Maintenance required at 11:15 AM, disk space full 25:32.\n",
    "\"\"\"\n",
    "\n",
    "pattern = r'(\\d{1,2}:\\d{2}) (?:AM|PM)'\n",
    "matches = re.findall(pattern, log_text)\n",
    "\n",
    "for match in matches:\n",
    "    print(match)"
   ]
  },
  {
   "cell_type": "code",
   "execution_count": 14,
   "id": "f6fa3b04",
   "metadata": {},
   "outputs": [],
   "source": [
    "def string_check(string):\n",
    "    \n",
    "    pattern = r'[^\\w\\s]'\n",
    "    match = re.search(pattern,string) \n",
    "    match_bool =  bool(match)\n",
    "    \n",
    "    return  not match_bool"
   ]
  },
  {
   "cell_type": "code",
   "execution_count": 15,
   "id": "fef85492",
   "metadata": {},
   "outputs": [
    {
     "name": "stdout",
     "output_type": "stream",
     "text": [
      "True\n",
      "False\n",
      "False\n"
     ]
    }
   ],
   "source": [
    "print(string_check(\"I got a total of 80 marks in my Math exam\"))\n",
    "print(string_check(\"I scored 88% on my exam\"))\n",
    "print(string_check(\"I got a total of 80 marks in my exam.\"))"
   ]
  },
  {
   "cell_type": "code",
   "execution_count": 16,
   "id": "d1549ed0",
   "metadata": {},
   "outputs": [
    {
     "name": "stdout",
     "output_type": "stream",
     "text": [
      "Full URL: https://www.example.com\n",
      "Domain: www.example.com\n",
      "\n",
      "\n",
      "Full URL: httpss://www.example88.com\n",
      "Domain: www.example88.com\n",
      "\n",
      "\n",
      "Full URL: http://www.test-subjects.com\n",
      "Domain: www.test-subjects.com\n",
      "\n",
      "\n",
      "Full URL: httpp://www.ghost_website.edu\n",
      "Domain: www.ghost_website.edu\n",
      "\n",
      "\n"
     ]
    }
   ],
   "source": [
    "string = \"\"\"\n",
    "<html>\n",
    "  <a href=\"https://www.example.com\">Visit Example</a>dsaf\n",
    "  <a href=\"httpss://www.example88.com\">Visit Example</a>\n",
    "  <a href=\"http://www.test-subjects.com\">Test Website</a>\n",
    "  <a href=\"httpp://www.ghost_website.edu\">Test Website</a>\n",
    "</html>\n",
    "\"\"\"\n",
    "\n",
    "pattern = r'([a-zA-Z]+://[^\\s\">]+)' \n",
    "\n",
    "matches = re.finditer(pattern,string) \n",
    "\n",
    "\n",
    "for match in matches:\n",
    "    print(\"Full URL:\",match.group(1)) \n",
    "    domain_match = re.search(r'://([^/\"]+)', match.group(1))\n",
    "    if domain_match:\n",
    "        print(\"Domain:\", domain_match.group(1)) \n",
    "    print(\"\\n\") "
   ]
  },
  {
   "cell_type": "code",
   "execution_count": null,
   "id": "368f4b5e",
   "metadata": {},
   "outputs": [],
   "source": []
  }
 ],
 "metadata": {
  "kernelspec": {
   "display_name": "Python 3 (ipykernel)",
   "language": "python",
   "name": "python3"
  },
  "language_info": {
   "codemirror_mode": {
    "name": "ipython",
    "version": 3
   },
   "file_extension": ".py",
   "mimetype": "text/x-python",
   "name": "python",
   "nbconvert_exporter": "python",
   "pygments_lexer": "ipython3",
   "version": "3.11.5"
  }
 },
 "nbformat": 4,
 "nbformat_minor": 5
}
